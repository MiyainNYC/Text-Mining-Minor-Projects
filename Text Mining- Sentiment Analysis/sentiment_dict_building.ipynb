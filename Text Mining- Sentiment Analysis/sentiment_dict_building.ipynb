{
 "cells": [
  {
   "cell_type": "markdown",
   "metadata": {},
   "source": [
    "# Sentiment Analysis\n",
    "* Replace multiple spaces into one space first\n",
    "* perl -p -i\".bak\" -le 's/\\s+/ /g' book.csv\n",
    "* perl -p -i\".bak\" -le 's/\\s+/ /g' proneg\n",
    "* perl -p -i\".bak\" -le 's/\\s*be\\s+//g' proneg\n",
    "* Use bing liu's dictionary\n",
    "* sentence ID, positive degree, negative degree, negative munus postive degree"
   ]
  },
  {
   "cell_type": "code",
   "execution_count": 40,
   "metadata": {
    "collapsed": true
   },
   "outputs": [],
   "source": [
    "import csv\n",
    "import sys\n",
    "import os"
   ]
  },
  {
   "cell_type": "code",
   "execution_count": 41,
   "metadata": {
    "collapsed": true
   },
   "outputs": [],
   "source": [
    "def isNotNull(value):\n",
    "    return value is not None and len(value)>0"
   ]
  },
  {
   "cell_type": "markdown",
   "metadata": {},
   "source": [
    "## load dict"
   ]
  },
  {
   "cell_type": "code",
   "execution_count": 42,
   "metadata": {
    "collapsed": true
   },
   "outputs": [],
   "source": [
    "dict_a = []\n",
    "dict_b = []\n",
    "dict_c = []\n",
    "dict_d = []"
   ]
  },
  {
   "cell_type": "markdown",
   "metadata": {},
   "source": [
    "* Remove multiple spaces in dict\n",
    "* cmd = 'perl -p -i\".bak\" -le ' + \"'s/\\\\s+/ /g' \" + sys.argv[1];\n",
    "* print cmd;\n",
    "* os.system(cmd);"
   ]
  },
  {
   "cell_type": "code",
   "execution_count": 43,
   "metadata": {
    "collapsed": false
   },
   "outputs": [],
   "source": [
    "if(len(sys.argv)<4):\n",
    "    fa = 'positive-words.txt';\n",
    "    fb = 'negative-words.txt';\n",
    "else:\n",
    "    fa = sys.argv[2];\n",
    "    fb = sys.argv[3];"
   ]
  },
  {
   "cell_type": "markdown",
   "metadata": {
    "collapsed": true
   },
   "source": [
    "## create dict(positive words)"
   ]
  },
  {
   "cell_type": "code",
   "execution_count": 44,
   "metadata": {
    "collapsed": false
   },
   "outputs": [],
   "source": [
    "fd = open(fa,'r')\n",
    "for line in fd:\n",
    "    t = line.strip().lower();\n",
    "    if (isNotNull(t)):\n",
    "        dict_a.append(t)\n",
    "fd.close()"
   ]
  },
  {
   "cell_type": "markdown",
   "metadata": {
    "collapsed": true
   },
   "source": [
    "## create dict(negative words)"
   ]
  },
  {
   "cell_type": "code",
   "execution_count": 45,
   "metadata": {
    "collapsed": false
   },
   "outputs": [],
   "source": [
    "fd = open(fb,'r')\n",
    "for line in fd:\n",
    "    t = line.strip().lower()\n",
    "    if(isNotNull(t)):\n",
    "       dict_b.append(t)\n",
    "fd.close()"
   ]
  },
  {
   "cell_type": "markdown",
   "metadata": {},
   "source": [
    "## counting"
   ]
  },
  {
   "cell_type": "code",
   "execution_count": 46,
   "metadata": {
    "collapsed": false
   },
   "outputs": [
    {
     "name": "stdout",
     "output_type": "stream",
     "text": [
      "msgid,poscnt,negcnt,netcnt\n"
     ]
    }
   ],
   "source": [
    "with open('input.txt','rt') as csvfile:\n",
    "    spamreader = csv.reader(csvfile,delimiter = ',')\n",
    "    nline = 0\n",
    "    for row in spamreader:\n",
    "        if(not isNotNull(row)):\n",
    "            continue\n",
    "        if(not isNotNull(row[0])):\n",
    "            continue\n",
    "        nline = nline + 1\n",
    "        if (nline==1):\n",
    "            header = ['msgid']\n",
    "            header.append('poscnt')\n",
    "            header.append('negcnt')\n",
    "            header.append('netcnt')\n",
    "            line = ','.join(header)\n",
    "            print(line)\n",
    "            continue"
   ]
  },
  {
   "cell_type": "code",
   "execution_count": null,
   "metadata": {
    "collapsed": true
   },
   "outputs": [],
   "source": [
    "t = row[0].lower()\n",
    "qa = 0\n",
    "qb = 0\n",
    "for d1,d2 in dict_a,dict_b:\n",
    "    if(d in t):\n",
    "        qa = qa + 1\n",
    "for d in dict_b:\n",
    "    qb = qb + 1\n",
    "    \n",
    "    qc = qa - qb\n",
    "    nrow = [str(nline - 1),str(qa),str(qb),str(qc)]\n",
    "    \n",
    "    line = ''\n",
    "    line = line + ','.join(nrow)\n",
    "    print(t+'\\t'+line)"
   ]
  }
 ],
 "metadata": {
  "kernelspec": {
   "display_name": "Python 2",
   "language": "python",
   "name": "python2"
  },
  "language_info": {
   "codemirror_mode": {
    "name": "ipython",
    "version": 2
   },
   "file_extension": ".py",
   "mimetype": "text/x-python",
   "name": "python",
   "nbconvert_exporter": "python",
   "pygments_lexer": "ipython2",
   "version": "2.7.10"
  }
 },
 "nbformat": 4,
 "nbformat_minor": 0
}
